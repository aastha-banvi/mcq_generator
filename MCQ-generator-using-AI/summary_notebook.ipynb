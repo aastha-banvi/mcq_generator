{
 "cells": [
  {
   "cell_type": "code",
   "execution_count": 9,
   "metadata": {},
   "outputs": [
    {
     "name": "stdout",
     "output_type": "stream",
     "text": [
      "Requirement already satisfied: bert-extractive-summarizer in c:\\users\\aastha banvi\\appdata\\local\\programs\\python\\python39\\lib\\site-packages (0.10.1)\n",
      "Requirement already satisfied: transformers in c:\\users\\aastha banvi\\appdata\\local\\programs\\python\\python39\\lib\\site-packages (from bert-extractive-summarizer) (2.2.2)\n",
      "Requirement already satisfied: scikit-learn in c:\\users\\aastha banvi\\appdata\\local\\programs\\python\\python39\\lib\\site-packages (from bert-extractive-summarizer) (1.2.2)\n",
      "Requirement already satisfied: spacy in c:\\users\\aastha banvi\\appdata\\local\\programs\\python\\python39\\lib\\site-packages (from bert-extractive-summarizer) (3.7.4)\n",
      "Requirement already satisfied: numpy>=1.17.3 in c:\\users\\aastha banvi\\appdata\\local\\programs\\python\\python39\\lib\\site-packages (from scikit-learn->bert-extractive-summarizer) (1.24.2)\n",
      "Requirement already satisfied: scipy>=1.3.2 in c:\\users\\aastha banvi\\appdata\\local\\programs\\python\\python39\\lib\\site-packages (from scikit-learn->bert-extractive-summarizer) (1.10.1)\n",
      "Requirement already satisfied: joblib>=1.1.1 in c:\\users\\aastha banvi\\appdata\\local\\programs\\python\\python39\\lib\\site-packages (from scikit-learn->bert-extractive-summarizer) (1.2.0)\n",
      "Requirement already satisfied: threadpoolctl>=2.0.0 in c:\\users\\aastha banvi\\appdata\\local\\programs\\python\\python39\\lib\\site-packages (from scikit-learn->bert-extractive-summarizer) (3.1.0)\n",
      "Requirement already satisfied: spacy-legacy<3.1.0,>=3.0.11 in c:\\users\\aastha banvi\\appdata\\local\\programs\\python\\python39\\lib\\site-packages (from spacy->bert-extractive-summarizer) (3.0.12)\n",
      "Requirement already satisfied: spacy-loggers<2.0.0,>=1.0.0 in c:\\users\\aastha banvi\\appdata\\local\\programs\\python\\python39\\lib\\site-packages (from spacy->bert-extractive-summarizer) (1.0.5)\n",
      "Requirement already satisfied: murmurhash<1.1.0,>=0.28.0 in c:\\users\\aastha banvi\\appdata\\local\\programs\\python\\python39\\lib\\site-packages (from spacy->bert-extractive-summarizer) (1.0.10)\n",
      "Requirement already satisfied: cymem<2.1.0,>=2.0.2 in c:\\users\\aastha banvi\\appdata\\local\\programs\\python\\python39\\lib\\site-packages (from spacy->bert-extractive-summarizer) (2.0.8)\n",
      "Requirement already satisfied: preshed<3.1.0,>=3.0.2 in c:\\users\\aastha banvi\\appdata\\local\\programs\\python\\python39\\lib\\site-packages (from spacy->bert-extractive-summarizer) (3.0.9)\n",
      "Requirement already satisfied: thinc<8.3.0,>=8.2.2 in c:\\users\\aastha banvi\\appdata\\local\\programs\\python\\python39\\lib\\site-packages (from spacy->bert-extractive-summarizer) (8.2.3)\n",
      "Requirement already satisfied: wasabi<1.2.0,>=0.9.1 in c:\\users\\aastha banvi\\appdata\\local\\programs\\python\\python39\\lib\\site-packages (from spacy->bert-extractive-summarizer) (1.1.2)\n",
      "Requirement already satisfied: srsly<3.0.0,>=2.4.3 in c:\\users\\aastha banvi\\appdata\\local\\programs\\python\\python39\\lib\\site-packages (from spacy->bert-extractive-summarizer) (2.4.8)\n",
      "Requirement already satisfied: catalogue<2.1.0,>=2.0.6 in c:\\users\\aastha banvi\\appdata\\local\\programs\\python\\python39\\lib\\site-packages (from spacy->bert-extractive-summarizer) (2.0.10)\n",
      "Requirement already satisfied: weasel<0.4.0,>=0.1.0 in c:\\users\\aastha banvi\\appdata\\local\\programs\\python\\python39\\lib\\site-packages (from spacy->bert-extractive-summarizer) (0.3.4)\n",
      "Requirement already satisfied: typer<0.10.0,>=0.3.0 in c:\\users\\aastha banvi\\appdata\\local\\programs\\python\\python39\\lib\\site-packages (from spacy->bert-extractive-summarizer) (0.9.0)\n",
      "Requirement already satisfied: smart-open<7.0.0,>=5.2.1 in c:\\users\\aastha banvi\\appdata\\local\\programs\\python\\python39\\lib\\site-packages (from spacy->bert-extractive-summarizer) (6.4.0)\n",
      "Requirement already satisfied: tqdm<5.0.0,>=4.38.0 in c:\\users\\aastha banvi\\appdata\\local\\programs\\python\\python39\\lib\\site-packages (from spacy->bert-extractive-summarizer) (4.66.2)\n",
      "Requirement already satisfied: requests<3.0.0,>=2.13.0 in c:\\users\\aastha banvi\\appdata\\local\\programs\\python\\python39\\lib\\site-packages (from spacy->bert-extractive-summarizer) (2.31.0)\n",
      "Requirement already satisfied: pydantic!=1.8,!=1.8.1,<3.0.0,>=1.7.4 in c:\\users\\aastha banvi\\appdata\\local\\programs\\python\\python39\\lib\\site-packages (from spacy->bert-extractive-summarizer) (2.6.4)\n",
      "Requirement already satisfied: jinja2 in c:\\users\\aastha banvi\\appdata\\local\\programs\\python\\python39\\lib\\site-packages (from spacy->bert-extractive-summarizer) (3.1.2)\n",
      "Requirement already satisfied: setuptools in c:\\users\\aastha banvi\\appdata\\local\\programs\\python\\python39\\lib\\site-packages (from spacy->bert-extractive-summarizer) (49.2.1)\n",
      "Requirement already satisfied: packaging>=20.0 in c:\\users\\aastha banvi\\appdata\\roaming\\python\\python39\\site-packages (from spacy->bert-extractive-summarizer) (23.2)\n",
      "Requirement already satisfied: langcodes<4.0.0,>=3.2.0 in c:\\users\\aastha banvi\\appdata\\local\\programs\\python\\python39\\lib\\site-packages (from spacy->bert-extractive-summarizer) (3.3.0)\n",
      "Requirement already satisfied: boto3 in c:\\users\\aastha banvi\\appdata\\local\\programs\\python\\python39\\lib\\site-packages (from transformers->bert-extractive-summarizer) (1.34.64)\n",
      "Requirement already satisfied: regex in c:\\users\\aastha banvi\\appdata\\local\\programs\\python\\python39\\lib\\site-packages (from transformers->bert-extractive-summarizer) (2023.12.25)\n",
      "Requirement already satisfied: sentencepiece in c:\\users\\aastha banvi\\appdata\\local\\programs\\python\\python39\\lib\\site-packages (from transformers->bert-extractive-summarizer) (0.2.0)\n",
      "Requirement already satisfied: sacremoses in c:\\users\\aastha banvi\\appdata\\local\\programs\\python\\python39\\lib\\site-packages (from transformers->bert-extractive-summarizer) (0.1.1)\n",
      "Requirement already satisfied: annotated-types>=0.4.0 in c:\\users\\aastha banvi\\appdata\\local\\programs\\python\\python39\\lib\\site-packages (from pydantic!=1.8,!=1.8.1,<3.0.0,>=1.7.4->spacy->bert-extractive-summarizer) (0.6.0)\n",
      "Requirement already satisfied: pydantic-core==2.16.3 in c:\\users\\aastha banvi\\appdata\\local\\programs\\python\\python39\\lib\\site-packages (from pydantic!=1.8,!=1.8.1,<3.0.0,>=1.7.4->spacy->bert-extractive-summarizer) (2.16.3)\n",
      "Requirement already satisfied: typing-extensions>=4.6.1 in c:\\users\\aastha banvi\\appdata\\roaming\\python\\python39\\site-packages (from pydantic!=1.8,!=1.8.1,<3.0.0,>=1.7.4->spacy->bert-extractive-summarizer) (4.9.0)\n",
      "Requirement already satisfied: charset-normalizer<4,>=2 in c:\\users\\aastha banvi\\appdata\\local\\programs\\python\\python39\\lib\\site-packages (from requests<3.0.0,>=2.13.0->spacy->bert-extractive-summarizer) (3.3.2)\n",
      "Requirement already satisfied: idna<4,>=2.5 in c:\\users\\aastha banvi\\appdata\\local\\programs\\python\\python39\\lib\\site-packages (from requests<3.0.0,>=2.13.0->spacy->bert-extractive-summarizer) (3.6)\n",
      "Requirement already satisfied: urllib3<3,>=1.21.1 in c:\\users\\aastha banvi\\appdata\\local\\programs\\python\\python39\\lib\\site-packages (from requests<3.0.0,>=2.13.0->spacy->bert-extractive-summarizer) (1.26.18)\n",
      "Requirement already satisfied: certifi>=2017.4.17 in c:\\users\\aastha banvi\\appdata\\local\\programs\\python\\python39\\lib\\site-packages (from requests<3.0.0,>=2.13.0->spacy->bert-extractive-summarizer) (2024.2.2)\n",
      "Requirement already satisfied: blis<0.8.0,>=0.7.8 in c:\\users\\aastha banvi\\appdata\\local\\programs\\python\\python39\\lib\\site-packages (from thinc<8.3.0,>=8.2.2->spacy->bert-extractive-summarizer) (0.7.11)\n",
      "Requirement already satisfied: confection<1.0.0,>=0.0.1 in c:\\users\\aastha banvi\\appdata\\local\\programs\\python\\python39\\lib\\site-packages (from thinc<8.3.0,>=8.2.2->spacy->bert-extractive-summarizer) (0.1.4)\n",
      "Requirement already satisfied: colorama in c:\\users\\aastha banvi\\appdata\\local\\programs\\python\\python39\\lib\\site-packages (from tqdm<5.0.0,>=4.38.0->spacy->bert-extractive-summarizer) (0.4.6)\n",
      "Requirement already satisfied: click<9.0.0,>=7.1.1 in c:\\users\\aastha banvi\\appdata\\local\\programs\\python\\python39\\lib\\site-packages (from typer<0.10.0,>=0.3.0->spacy->bert-extractive-summarizer) (8.1.3)\n",
      "Requirement already satisfied: cloudpathlib<0.17.0,>=0.7.0 in c:\\users\\aastha banvi\\appdata\\local\\programs\\python\\python39\\lib\\site-packages (from weasel<0.4.0,>=0.1.0->spacy->bert-extractive-summarizer) (0.16.0)\n",
      "Requirement already satisfied: botocore<1.35.0,>=1.34.64 in c:\\users\\aastha banvi\\appdata\\local\\programs\\python\\python39\\lib\\site-packages (from boto3->transformers->bert-extractive-summarizer) (1.34.64)\n",
      "Requirement already satisfied: jmespath<2.0.0,>=0.7.1 in c:\\users\\aastha banvi\\appdata\\local\\programs\\python\\python39\\lib\\site-packages (from boto3->transformers->bert-extractive-summarizer) (1.0.1)\n",
      "Requirement already satisfied: s3transfer<0.11.0,>=0.10.0 in c:\\users\\aastha banvi\\appdata\\local\\programs\\python\\python39\\lib\\site-packages (from boto3->transformers->bert-extractive-summarizer) (0.10.1)\n",
      "Requirement already satisfied: MarkupSafe>=2.0 in c:\\users\\aastha banvi\\appdata\\local\\programs\\python\\python39\\lib\\site-packages (from jinja2->spacy->bert-extractive-summarizer) (2.1.2)\n",
      "Requirement already satisfied: python-dateutil<3.0.0,>=2.1 in c:\\users\\aastha banvi\\appdata\\roaming\\python\\python39\\site-packages (from botocore<1.35.0,>=1.34.64->boto3->transformers->bert-extractive-summarizer) (2.8.2)\n",
      "Requirement already satisfied: six>=1.5 in c:\\users\\aastha banvi\\appdata\\roaming\\python\\python39\\site-packages (from python-dateutil<3.0.0,>=2.1->botocore<1.35.0,>=1.34.64->boto3->transformers->bert-extractive-summarizer) (1.16.0)\n"
     ]
    }
   ],
   "source": [
    "!pip install bert-extractive-summarizer"
   ]
  },
  {
   "cell_type": "code",
   "execution_count": 10,
   "metadata": {},
   "outputs": [
    {
     "ename": "ImportError",
     "evalue": "cannot import name 'TransformerSummarizer' from 'summarizer' (c:\\Users\\aastha banvi\\AppData\\Local\\Programs\\Python\\Python39\\lib\\site-packages\\summarizer\\__init__.py)",
     "output_type": "error",
     "traceback": [
      "\u001b[1;31m---------------------------------------------------------------------------\u001b[0m",
      "\u001b[1;31mImportError\u001b[0m                               Traceback (most recent call last)",
      "Cell \u001b[1;32mIn[10], line 1\u001b[0m\n\u001b[1;32m----> 1\u001b[0m \u001b[38;5;28;01mfrom\u001b[39;00m \u001b[38;5;21;01msummarizer\u001b[39;00m \u001b[38;5;28;01mimport\u001b[39;00m Summarizer,TransformerSummarizer\n",
      "\u001b[1;31mImportError\u001b[0m: cannot import name 'TransformerSummarizer' from 'summarizer' (c:\\Users\\aastha banvi\\AppData\\Local\\Programs\\Python\\Python39\\lib\\site-packages\\summarizer\\__init__.py)"
     ]
    }
   ],
   "source": [
    "from summarizer import Summarizer,TransformerSummarizer"
   ]
  },
  {
   "cell_type": "code",
   "execution_count": null,
   "metadata": {},
   "outputs": [],
   "source": [
    "with open('article2.txt','r') as f:\n",
    "     text = f.read()"
   ]
  },
  {
   "cell_type": "code",
   "execution_count": null,
   "metadata": {},
   "outputs": [],
   "source": [
    "import datetime"
   ]
  },
  {
   "cell_type": "code",
   "execution_count": null,
   "metadata": {},
   "outputs": [
    {
     "name": "stdout",
     "output_type": "stream",
     "text": [
      "The Nile River fed Egyptian civilization for hundreds of years. It begins near the equator in Africa and flows north to the Mediterranean Sea. This soil was fertile, which means it was good for growing crops. They called this region the black land because of the fertile soil that the floods deposited. The red land was the barren desert beyond the fertile region. After the waters drained away, farmers could plant seeds in the fertile soil. Then they used a tool called a shaduf to spread the water across the fields. These innovative, or new, techniques gave them more farmland. Egyptian Crops Ancient Egyptians grew a large variety of foods. They were the first to grind wheat into flour and to mix the flour with yeast and water to make dough rise into bread. Egyptian Houses Egyptians built houses using bricks made of mud from the Nile mixed with chopped straw. Egyptians often painted walls white to reflect the blazing heat. Poorer Egyptians simply went to the roof to cool off after sunset. One ancient painting even shows a man ready to hit a catfish with a wooden hammer. A boomerang is a curved stick that returns to the person who threw it.) Going south, they raised a sail and let the winds that blew in that direction push them. The Nile provided so well for Egyptians that sometimes they had surpluses, or more goods than they needed. Ancient Egypt had no money, so people exchanged goods that they grew or made. This prosperity made life easier and provided greater opportunities for many Egyptians. For example, some ancient Egyptians learned to be scribes, people whose job was to write and keep records. Some skilled artisans erected stone or brick houses and temples. These traders took Egyptian products such as scrolls, linen, gold, and jewelry. Egyptians created a government that divided the empire into 42 provinces. Many officials worked to keep the provinces running smoothly. Priests followed formal rituals and took care of the temples. Before entering a temple, a priest bathed and put on special linen garments and white sandals. Together, the priests and the ruler held ceremonies to please the gods. In Egypt, people became slaves if they owed a debt, committed a crime, or were captured in war. Unlike other ancient African cultures, in Egyptian society men and women had fairly equal rights. For example, they could both own and manage their own property. Boys and girls also played rough physical games with balls made of leather or reeds. Boys and some girls from wealthy families went to schools run by scribes or priests. Almost all Egyptians married when they were in their early teens. Doctors believed that the heart controlled thought and the brain circulated blood, which is the opposite of what is known now. Early Egyptians created a hieroglyphic system with about 700 characters. Egyptians cut the stems into strips, pressed them, and dried them into sheets that could be rolled into scrolls. Legend says a king named Narmer united Upper and Lower Egypt. When a king died, one of his children usually took his place as ruler. The order in which members of a royal family inherit a throne is called the succession. Historians divide ancient Egyptian dynasties into the Old Kingdom, the Middle Kingdom, and the New Kingdom. Egyptians believed that if the pharaoh and his subjects honored the gods, their lives would be happy. The first rulers of Egypt were often buried in an underground tomb topped by mud brick. They replaced the mud brick with a small pyramid of brick or stone. A pyramid is a structure shaped like a triangle, with four sides that meet at a point. It is called a step pyramid because its sides rise in a series of giant steps. He ordered the construction of the largest pyramid ever built. One reason is that the pyramids drew attention to the tombs inside them. Grave robbers broke into the tombs to steal the treasure buried with the pharaohs. Egyptians believed that if a tomb was robbed, the person buried there could not have a happy afterlife. This was to confuse grave robbers about which passage to take. Sometimes relatives, such as the queen, were buried in the extra rooms. Tombs were supposed to be the palaces of pharaohs in the afterlife. Mourners filled the tomb with objects ranging from food to furniture that the mummified pharaoh would need. A sculpture of a dead pharaoh had “perfect” features, no matter how he really looked. Artists also followed strict rules about how to portray humans. Paintings showed a person’s head, arms, and legs from the side. Such activities included growing and preparing food, caring for animals, and building boats. Only a secret tomb built for a New Kingdom pharaoh was ever found with much of its treasure untouched. By about 2130 B.C., Egyptian kings began to lose their power to local rulers of the provinces.\n",
      "0:00:56.234789\n"
     ]
    }
   ],
   "source": [
    "s = datetime.datetime.now()\n",
    "model = Summarizer()\n",
    "result = model(text, min_length=60,max_length=500,ratio=0.4)\n",
    "summary = \"\".join(result)\n",
    "e = datetime.datetime.now()\n",
    "print(summary)\n",
    "print(e-s)"
   ]
  },
  {
   "cell_type": "code",
   "execution_count": null,
   "metadata": {},
   "outputs": [],
   "source": [
    "s = datetime.datetime.now()\n",
    "model = TransformerSummarizer(transformer_type=\"XLNet\",transformer_model_key=\"xlnet-base-cased\")\n",
    "full = ''.join(model(text, min_length=60,max_length=500,ratio=0.4))\n",
    "e = datetime.datetime.now()\n",
    "print(full)\n",
    "print(e-s)"
   ]
  },
  {
   "cell_type": "code",
   "execution_count": null,
   "metadata": {},
   "outputs": [],
   "source": []
  }
 ],
 "metadata": {
  "kernelspec": {
   "display_name": "Python 3",
   "language": "python",
   "name": "python3"
  },
  "language_info": {
   "codemirror_mode": {
    "name": "ipython",
    "version": 3
   },
   "file_extension": ".py",
   "mimetype": "text/x-python",
   "name": "python",
   "nbconvert_exporter": "python",
   "pygments_lexer": "ipython3",
   "version": "3.9.0"
  }
 },
 "nbformat": 4,
 "nbformat_minor": 4
}
